{
 "cells": [
  {
   "cell_type": "markdown",
   "id": "9a01689f-9e74-4574-9f61-ea46f2456dff",
   "metadata": {},
   "source": [
    "# [Day 1: Calorie Counting](https://adventofcode.com/2022/day/1)\n",
    "\n",
    "## Part 1"
   ]
  },
  {
   "cell_type": "code",
   "execution_count": 1,
   "id": "aacbcbba-f81e-42b7-9f4c-b4e4293a83fc",
   "metadata": {},
   "outputs": [],
   "source": [
    "import pathlib"
   ]
  },
  {
   "cell_type": "code",
   "execution_count": 2,
   "id": "3c5bae4d-dc4d-4d02-9258-1425d7cdb12c",
   "metadata": {},
   "outputs": [],
   "source": [
    "test_data = \"\"\"\n",
    "1000\n",
    "2000\n",
    "3000\n",
    "\n",
    "4000\n",
    "\n",
    "5000\n",
    "6000\n",
    "\n",
    "7000\n",
    "8000\n",
    "9000\n",
    "\n",
    "10000\"\"\""
   ]
  },
  {
   "cell_type": "code",
   "execution_count": 3,
   "id": "045c64f7-1556-4502-b08b-3660affecb3b",
   "metadata": {},
   "outputs": [
    {
     "data": {
      "text/plain": [
       "[[1000, 2000, 3000], [4000], [5000, 6000], [7000, 8000, 9000], [10000]]"
      ]
     },
     "execution_count": 3,
     "metadata": {},
     "output_type": "execute_result"
    }
   ],
   "source": [
    "def parse_calorie_list(data: str) -> list[list[int]]:\n",
    "    calories_list = []\n",
    "    this_elf = []\n",
    "    for line in data.splitlines():\n",
    "        line = line.strip()\n",
    "        if line:\n",
    "            this_elf.append(int(line))\n",
    "        else:\n",
    "            if this_elf:\n",
    "                calories_list.append(this_elf)\n",
    "                this_elf = []\n",
    "    if this_elf:\n",
    "        calories_list.append(this_elf)\n",
    "    \n",
    "    return calories_list\n",
    "\n",
    "test_elves = parse_calorie_list(test_data)\n",
    "test_elves"
   ]
  },
  {
   "cell_type": "code",
   "execution_count": 4,
   "id": "87971c6c-06b4-40fd-a408-e03bb6ec8571",
   "metadata": {},
   "outputs": [],
   "source": [
    "def get_most_calories(elves):\n",
    "    return max(map(sum, elves))"
   ]
  },
  {
   "cell_type": "code",
   "execution_count": 5,
   "id": "00a0ae51-0459-4d60-8df7-499b0662aa93",
   "metadata": {},
   "outputs": [
    {
     "name": "stdout",
     "output_type": "stream",
     "text": [
      "CPU times: total: 0 ns\n",
      "Wall time: 0 ns\n"
     ]
    },
    {
     "data": {
      "text/plain": [
       "True"
      ]
     },
     "execution_count": 5,
     "metadata": {},
     "output_type": "execute_result"
    }
   ],
   "source": [
    "%%time\n",
    "get_most_calories(test_elves) == 24000"
   ]
  },
  {
   "cell_type": "code",
   "execution_count": 6,
   "id": "c259d1f0-8298-494c-a6f3-a5be9ce1778b",
   "metadata": {},
   "outputs": [
    {
     "data": {
      "text/plain": [
       "True"
      ]
     },
     "execution_count": 6,
     "metadata": {},
     "output_type": "execute_result"
    }
   ],
   "source": [
    "elves = parse_calorie_list(pathlib.Path(\"../data/day01.txt\").read_text())\n",
    "elves[-1][-1] == 11468"
   ]
  },
  {
   "cell_type": "code",
   "execution_count": 7,
   "id": "c38ee188-2ead-46dc-850b-726348b51e56",
   "metadata": {},
   "outputs": [
    {
     "name": "stdout",
     "output_type": "stream",
     "text": [
      "Answer part 1: 67622\n",
      "\n",
      "CPU times: total: 0 ns\n",
      "Wall time: 1 ms\n"
     ]
    }
   ],
   "source": [
    "%%time\n",
    "print(f\"Answer part 1: {get_most_calories(elves)}\\n\")"
   ]
  },
  {
   "cell_type": "markdown",
   "id": "1efcfd47-bfd4-4db0-8495-1543f53265be",
   "metadata": {},
   "source": [
    "## Part 2"
   ]
  },
  {
   "cell_type": "code",
   "execution_count": 8,
   "id": "8cbe5b48-eeac-4b37-a05b-c0af3b5bf99d",
   "metadata": {},
   "outputs": [],
   "source": [
    "def get_top_three_calories(elves):\n",
    "    return sum(sorted(map(sum, elves), reverse=True)[:3])"
   ]
  },
  {
   "cell_type": "code",
   "execution_count": 9,
   "id": "c367bcb5-d258-48f2-965d-c341d784594b",
   "metadata": {},
   "outputs": [
    {
     "data": {
      "text/plain": [
       "True"
      ]
     },
     "execution_count": 9,
     "metadata": {},
     "output_type": "execute_result"
    }
   ],
   "source": [
    "get_top_three_calories(test_elves) == 45000"
   ]
  },
  {
   "cell_type": "code",
   "execution_count": 10,
   "id": "dba3a8be-a814-4399-8e5a-1787f47e6f2f",
   "metadata": {},
   "outputs": [
    {
     "name": "stdout",
     "output_type": "stream",
     "text": [
      "Answer part 2: 201491\n",
      "\n",
      "CPU times: total: 0 ns\n",
      "Wall time: 0 ns\n"
     ]
    }
   ],
   "source": [
    "%%time\n",
    "print(f\"Answer part 2: {get_top_three_calories(elves)}\\n\")"
   ]
  },
  {
   "cell_type": "code",
   "execution_count": null,
   "id": "78505b3f-1eba-41f1-acf4-7fb960872dbb",
   "metadata": {},
   "outputs": [],
   "source": []
  }
 ],
 "metadata": {
  "kernelspec": {
   "display_name": "Python 3 (ipykernel)",
   "language": "python",
   "name": "python3"
  },
  "language_info": {
   "codemirror_mode": {
    "name": "ipython",
    "version": 3
   },
   "file_extension": ".py",
   "mimetype": "text/x-python",
   "name": "python",
   "nbconvert_exporter": "python",
   "pygments_lexer": "ipython3",
   "version": "3.10.8"
  }
 },
 "nbformat": 4,
 "nbformat_minor": 5
}
