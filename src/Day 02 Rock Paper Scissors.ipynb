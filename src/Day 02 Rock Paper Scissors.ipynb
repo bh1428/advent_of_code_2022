{
 "cells": [
  {
   "cell_type": "markdown",
   "id": "9a01689f-9e74-4574-9f61-ea46f2456dff",
   "metadata": {},
   "source": [
    "# [Day 2: Rock Paper Scissors](https://adventofcode.com/2022/day/2)\n",
    "\n",
    "## Part 1"
   ]
  },
  {
   "cell_type": "code",
   "execution_count": 1,
   "id": "333c0299-b779-46d7-9aca-3cdef60b4cc0",
   "metadata": {},
   "outputs": [],
   "source": [
    "import pathlib"
   ]
  },
  {
   "cell_type": "code",
   "execution_count": 2,
   "id": "ff2faef1-824b-471f-b582-ebf327873b79",
   "metadata": {},
   "outputs": [],
   "source": [
    "test_strategy_guide_data = \"\"\"\n",
    "A Y\n",
    "B X\n",
    "\n",
    "C Z\"\"\""
   ]
  },
  {
   "cell_type": "code",
   "execution_count": 3,
   "id": "e6fcf55a-7afb-422a-a27f-d848cf21ec98",
   "metadata": {},
   "outputs": [
    {
     "data": {
      "text/plain": [
       "[('A', 'Y'), ('B', 'X'), ('C', 'Z')]"
      ]
     },
     "execution_count": 3,
     "metadata": {},
     "output_type": "execute_result"
    }
   ],
   "source": [
    "def parse_strategy_guide(data: list[str]) -> list[tuple[str, str]]:\n",
    "    strategy_list = []\n",
    "    for line in data.splitlines():\n",
    "        line = line.strip()\n",
    "        if line:\n",
    "            strategy_list.append(tuple(line.split(\" \")))\n",
    "    return strategy_list\n",
    "\n",
    "test_strategy_guide = parse_strategy_guide(test_strategy_guide_data)\n",
    "test_strategy_guide"
   ]
  },
  {
   "cell_type": "code",
   "execution_count": 4,
   "id": "f6c85d1d-07fc-465f-89dd-82f26c29c95f",
   "metadata": {},
   "outputs": [],
   "source": [
    "LOOSE = 0\n",
    "DRAW = 3\n",
    "WIN = 6\n",
    "\n",
    "OP_ROCK = \"A\"\n",
    "OP_PAPER = \"B\"\n",
    "OP_SCISSORS = \"C\"\n",
    "ME_ROCK = \"X\"\n",
    "ME_PAPER = \"Y\"\n",
    "ME_SCISSORS = \"Z\"\n",
    "\n",
    "class RockPaperScissors:\n",
    "    points = {\n",
    "        ME_ROCK: 1,\n",
    "        ME_PAPER: 2,\n",
    "        ME_SCISSORS: 3,\n",
    "    }\n",
    "    scores = {\n",
    "        OP_ROCK: {ME_ROCK: DRAW, ME_PAPER: WIN, ME_SCISSORS: LOOSE},\n",
    "        OP_PAPER: {ME_ROCK: LOOSE, ME_PAPER: DRAW, ME_SCISSORS: WIN},\n",
    "        OP_SCISSORS: {ME_ROCK: WIN, ME_PAPER: LOOSE, ME_SCISSORS: DRAW},\n",
    "    }\n",
    "    moves = {\n",
    "        OP_ROCK: {\"X\": ME_SCISSORS, \"Y\": ME_ROCK, \"Z\": ME_PAPER},\n",
    "        OP_PAPER: {\"X\": ME_ROCK, \"Y\": ME_PAPER, \"Z\": ME_SCISSORS},\n",
    "        OP_SCISSORS: {\"X\": ME_PAPER, \"Y\": ME_SCISSORS, \"Z\": ME_ROCK},\n",
    "    }\n",
    "\n",
    "    def __init__(self) -> None:\n",
    "        self.score = -1\n",
    "    \n",
    "    def play_part1(self, strategy_guide: list[tuple[str, str]]) -> int:\n",
    "        self.score = 0\n",
    "        for opponent, me in strategy_guide:\n",
    "            self.score += self.points[me]\n",
    "            self.score += self.scores[opponent][me]\n",
    "        return self.score\n",
    "    \n",
    "    def play_part2(self, strategy_guide: list[tuple[str, str]]) -> int:\n",
    "        self.score = 0\n",
    "        for opponent, me in strategy_guide:\n",
    "            move = self.moves[opponent][me]\n",
    "            self.score += self.points[move]\n",
    "            self.score += self.scores[opponent][move]\n",
    "        return self.score\n",
    "\n",
    "game = RockPaperScissors()"
   ]
  },
  {
   "cell_type": "code",
   "execution_count": 5,
   "id": "644db85f-765f-4019-b170-951d9f886ab4",
   "metadata": {},
   "outputs": [
    {
     "name": "stdout",
     "output_type": "stream",
     "text": [
      "CPU times: total: 0 ns\n",
      "Wall time: 0 ns\n"
     ]
    },
    {
     "data": {
      "text/plain": [
       "True"
      ]
     },
     "execution_count": 5,
     "metadata": {},
     "output_type": "execute_result"
    }
   ],
   "source": [
    "%%time\n",
    "game.play_part1(test_strategy_guide) == 15"
   ]
  },
  {
   "cell_type": "code",
   "execution_count": 6,
   "id": "a4c1d699-cc9c-49de-b16c-76e68ad1f999",
   "metadata": {},
   "outputs": [
    {
     "data": {
      "text/plain": [
       "True"
      ]
     },
     "execution_count": 6,
     "metadata": {},
     "output_type": "execute_result"
    }
   ],
   "source": [
    "strategy_guide = parse_strategy_guide(pathlib.Path(\"../data/day02.txt\").read_text())\n",
    "len(strategy_guide) == 2500"
   ]
  },
  {
   "cell_type": "code",
   "execution_count": 7,
   "id": "20d23ccc-8692-4d2a-8f4e-503788381302",
   "metadata": {},
   "outputs": [
    {
     "name": "stdout",
     "output_type": "stream",
     "text": [
      "Answer part 1: 13682\n",
      "\n",
      "CPU times: total: 0 ns\n",
      "Wall time: 997 µs\n"
     ]
    }
   ],
   "source": [
    "%%time\n",
    "print(f\"Answer part 1: {game.play_part1(strategy_guide)}\\n\")"
   ]
  },
  {
   "cell_type": "markdown",
   "id": "1efcfd47-bfd4-4db0-8495-1543f53265be",
   "metadata": {},
   "source": [
    "## Part 2"
   ]
  },
  {
   "cell_type": "code",
   "execution_count": 8,
   "id": "67a0306b-4b18-4bed-98e1-2138c281e2ab",
   "metadata": {},
   "outputs": [
    {
     "name": "stdout",
     "output_type": "stream",
     "text": [
      "CPU times: total: 0 ns\n",
      "Wall time: 0 ns\n"
     ]
    },
    {
     "data": {
      "text/plain": [
       "True"
      ]
     },
     "execution_count": 8,
     "metadata": {},
     "output_type": "execute_result"
    }
   ],
   "source": [
    "%%time\n",
    "game.play_part2(test_strategy_guide) == 12"
   ]
  },
  {
   "cell_type": "code",
   "execution_count": 9,
   "id": "cabf4f74-ae08-4da9-8684-7ec0f7cb714b",
   "metadata": {},
   "outputs": [
    {
     "name": "stdout",
     "output_type": "stream",
     "text": [
      "Answer part 2: 12881\n",
      "\n",
      "CPU times: total: 0 ns\n",
      "Wall time: 992 µs\n"
     ]
    }
   ],
   "source": [
    "%%time\n",
    "print(f\"Answer part 2: {game.play_part2(strategy_guide)}\\n\")"
   ]
  },
  {
   "cell_type": "code",
   "execution_count": null,
   "id": "78505b3f-1eba-41f1-acf4-7fb960872dbb",
   "metadata": {},
   "outputs": [],
   "source": []
  }
 ],
 "metadata": {
  "kernelspec": {
   "display_name": "Python 3 (ipykernel)",
   "language": "python",
   "name": "python3"
  },
  "language_info": {
   "codemirror_mode": {
    "name": "ipython",
    "version": 3
   },
   "file_extension": ".py",
   "mimetype": "text/x-python",
   "name": "python",
   "nbconvert_exporter": "python",
   "pygments_lexer": "ipython3",
   "version": "3.10.8"
  }
 },
 "nbformat": 4,
 "nbformat_minor": 5
}
