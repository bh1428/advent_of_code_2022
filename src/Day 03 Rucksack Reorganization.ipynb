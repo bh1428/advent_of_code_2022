{
 "cells": [
  {
   "cell_type": "markdown",
   "id": "9a01689f-9e74-4574-9f61-ea46f2456dff",
   "metadata": {},
   "source": [
    "# [Day 3: Rucksack Reorganization](https://adventofcode.com/2022/day/3)\n",
    "\n",
    "## Part 1"
   ]
  },
  {
   "cell_type": "code",
   "execution_count": 1,
   "id": "333c0299-b779-46d7-9aca-3cdef60b4cc0",
   "metadata": {},
   "outputs": [],
   "source": [
    "import pathlib"
   ]
  },
  {
   "cell_type": "code",
   "execution_count": 2,
   "id": "ff2faef1-824b-471f-b582-ebf327873b79",
   "metadata": {},
   "outputs": [],
   "source": [
    "test_rucksacks_data = \"\"\"\n",
    "vJrwpWtwJgWrhcsFMMfFFhFp\n",
    "jqHRNqRjqzjGDLGLrsFMfFZSrLrFZsSL\n",
    "PmmdzqPrVvPwwTWBwg\n",
    "wMqvLMZHhHMvwLHjbvcjnnSBnvTQFn\n",
    "ttgJtRGJQctTZtZT\n",
    "CrZsJsPPZsGzwwsLwLmpwMDw\"\"\""
   ]
  },
  {
   "cell_type": "code",
   "execution_count": 3,
   "id": "e6fcf55a-7afb-422a-a27f-d848cf21ec98",
   "metadata": {},
   "outputs": [
    {
     "data": {
      "text/plain": [
       "('vJrwpWtwJgWrhcsFMMfFFhFp',\n",
       " 'jqHRNqRjqzjGDLGLrsFMfFZSrLrFZsSL',\n",
       " 'PmmdzqPrVvPwwTWBwg',\n",
       " 'wMqvLMZHhHMvwLHjbvcjnnSBnvTQFn',\n",
       " 'ttgJtRGJQctTZtZT',\n",
       " 'CrZsJsPPZsGzwwsLwLmpwMDw')"
      ]
     },
     "execution_count": 3,
     "metadata": {},
     "output_type": "execute_result"
    }
   ],
   "source": [
    "def parse_rucksacks(data: str) -> tuple[str, ...]:\n",
    "    rucksack_list = []\n",
    "    for line in data.splitlines():\n",
    "        line = line.strip()\n",
    "        if line:\n",
    "            rucksack_list.append(line)\n",
    "    return tuple(rucksack_list)\n",
    "\n",
    "test_rucksacks = parse_rucksacks(test_rucksacks_data)\n",
    "test_rucksacks"
   ]
  },
  {
   "cell_type": "code",
   "execution_count": 4,
   "id": "1892d129-1fa4-4886-8bf0-055e50efeb4d",
   "metadata": {},
   "outputs": [
    {
     "data": {
      "text/plain": [
       "True"
      ]
     },
     "execution_count": 4,
     "metadata": {},
     "output_type": "execute_result"
    }
   ],
   "source": [
    "def priority(item: str) -> int:\n",
    "    if item < 'a':\n",
    "        return ord(item) - 38\n",
    "    return ord(item) - 96\n",
    "\n",
    "def priority_of_shared_in_a_rucksack(rucksack: tuple[str, str]) -> int:\n",
    "    idx_half = int(len(rucksack) / 2)\n",
    "    shared_item_set = set(rucksack[:idx_half]) & set(rucksack[idx_half:])\n",
    "    if len(shared_item_set) == 1:\n",
    "        return priority(list(shared_item_set)[0])\n",
    "    else:\n",
    "        raise Exception(f\"got {len(shared_item_set)} shared items, expected only 1\")\n",
    "\n",
    "priority_of_shared_in_a_rucksack(test_rucksacks[0]) == 16"
   ]
  },
  {
   "cell_type": "code",
   "execution_count": 5,
   "id": "c5e2cc28-8d0e-4b97-9990-84fd7c25fc23",
   "metadata": {},
   "outputs": [
    {
     "name": "stdout",
     "output_type": "stream",
     "text": [
      "CPU times: total: 0 ns\n",
      "Wall time: 0 ns\n"
     ]
    },
    {
     "data": {
      "text/plain": [
       "True"
      ]
     },
     "execution_count": 5,
     "metadata": {},
     "output_type": "execute_result"
    }
   ],
   "source": [
    "%%time\n",
    "sum(map(priority_of_shared_in_a_rucksack, test_rucksacks)) == 157"
   ]
  },
  {
   "cell_type": "code",
   "execution_count": 6,
   "id": "a4c1d699-cc9c-49de-b16c-76e68ad1f999",
   "metadata": {},
   "outputs": [
    {
     "data": {
      "text/plain": [
       "True"
      ]
     },
     "execution_count": 6,
     "metadata": {},
     "output_type": "execute_result"
    }
   ],
   "source": [
    "rucksacks = parse_rucksacks(pathlib.Path(\"../data/day03.txt\").read_text())\n",
    "len(rucksacks) == 300"
   ]
  },
  {
   "cell_type": "code",
   "execution_count": 7,
   "id": "20d23ccc-8692-4d2a-8f4e-503788381302",
   "metadata": {},
   "outputs": [
    {
     "name": "stdout",
     "output_type": "stream",
     "text": [
      "Answer part 1: 7446\n",
      "\n",
      "CPU times: total: 15.6 ms\n",
      "Wall time: 999 µs\n"
     ]
    }
   ],
   "source": [
    "%%time\n",
    "print(f\"Answer part 1: {sum(map(priority_of_shared_in_a_rucksack, rucksacks))}\\n\")"
   ]
  },
  {
   "cell_type": "markdown",
   "id": "1efcfd47-bfd4-4db0-8495-1543f53265be",
   "metadata": {},
   "source": [
    "## Part 2"
   ]
  },
  {
   "cell_type": "code",
   "execution_count": 8,
   "id": "67a0306b-4b18-4bed-98e1-2138c281e2ab",
   "metadata": {},
   "outputs": [
    {
     "data": {
      "text/plain": [
       "True"
      ]
     },
     "execution_count": 8,
     "metadata": {},
     "output_type": "execute_result"
    }
   ],
   "source": [
    "def grouper(iterable, n):\n",
    "    args = [iter(iterable)] * n\n",
    "    return zip(*args)\n",
    "\n",
    "def priority_of_shared_between_groups(rucksacks: tuple[tuple[str, str], ...]) -> int:\n",
    "    shared_item_set = set(rucksacks[0])\n",
    "    for rucksack in rucksacks[1:]:\n",
    "        shared_item_set &= set(rucksack)\n",
    "    if len(shared_item_set) == 1:\n",
    "        return priority(list(shared_item_set)[0])\n",
    "    else:\n",
    "        raise Exception(f\"got {len(shared_item_set)} shared items, expected only 1\")\n",
    "\n",
    "sum(map(priority_of_shared_between_groups, grouper(test_rucksacks, 3))) == 70"
   ]
  },
  {
   "cell_type": "code",
   "execution_count": 9,
   "id": "cabf4f74-ae08-4da9-8684-7ec0f7cb714b",
   "metadata": {},
   "outputs": [
    {
     "name": "stdout",
     "output_type": "stream",
     "text": [
      "Answer part 2: 2646\n",
      "\n",
      "CPU times: total: 15.6 ms\n",
      "Wall time: 998 µs\n"
     ]
    }
   ],
   "source": [
    "%%time\n",
    "print(f\"Answer part 2: {sum(map(priority_of_shared_between_groups, grouper(rucksacks, 3)))}\\n\")"
   ]
  },
  {
   "cell_type": "code",
   "execution_count": null,
   "id": "b1ea13cc-51f3-477f-8832-581c27411eec",
   "metadata": {},
   "outputs": [],
   "source": []
  }
 ],
 "metadata": {
  "kernelspec": {
   "display_name": "Python 3 (ipykernel)",
   "language": "python",
   "name": "python3"
  },
  "language_info": {
   "codemirror_mode": {
    "name": "ipython",
    "version": 3
   },
   "file_extension": ".py",
   "mimetype": "text/x-python",
   "name": "python",
   "nbconvert_exporter": "python",
   "pygments_lexer": "ipython3",
   "version": "3.10.8"
  }
 },
 "nbformat": 4,
 "nbformat_minor": 5
}
