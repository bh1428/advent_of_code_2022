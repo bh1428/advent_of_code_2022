{
 "cells": [
  {
   "cell_type": "markdown",
   "id": "9a01689f-9e74-4574-9f61-ea46f2456dff",
   "metadata": {},
   "source": [
    "# [Day 4: Camp Cleanup](https://adventofcode.com/2022/day/4)\n",
    "\n",
    "## Part 1"
   ]
  },
  {
   "cell_type": "code",
   "execution_count": 1,
   "id": "333c0299-b779-46d7-9aca-3cdef60b4cc0",
   "metadata": {},
   "outputs": [],
   "source": [
    "import pathlib"
   ]
  },
  {
   "cell_type": "code",
   "execution_count": 2,
   "id": "ff2faef1-824b-471f-b582-ebf327873b79",
   "metadata": {},
   "outputs": [],
   "source": [
    "test_section_assignment_data = \"\"\"\n",
    "2-4,6-8\n",
    "2-3,4-5\n",
    "5-7,7-9\n",
    "2-8,3-7\n",
    "6-6,4-6\n",
    "2-6,4-8\"\"\""
   ]
  },
  {
   "cell_type": "code",
   "execution_count": 3,
   "id": "e6fcf55a-7afb-422a-a27f-d848cf21ec98",
   "metadata": {},
   "outputs": [
    {
     "data": {
      "text/plain": [
       "(((2, 4), (6, 8)),\n",
       " ((2, 3), (4, 5)),\n",
       " ((5, 7), (7, 9)),\n",
       " ((2, 8), (3, 7)),\n",
       " ((6, 6), (4, 6)),\n",
       " ((2, 6), (4, 8)))"
      ]
     },
     "execution_count": 3,
     "metadata": {},
     "output_type": "execute_result"
    }
   ],
   "source": [
    "def parse_section_assignments(data: list[str]) -> tuple[tuple[tuple[int, int], tuple[int, int]], ...]:\n",
    "    section_assignment = []\n",
    "    for line in data.splitlines():\n",
    "        line = line.strip()\n",
    "        if line:\n",
    "            section_assignment.append(tuple([tuple(map(int, elf.split(\"-\"))) for elf in line.split(\",\")]))\n",
    "    return tuple(section_assignment)\n",
    "\n",
    "test_section_assignments = parse_section_assignments(test_section_assignment_data)\n",
    "test_section_assignments"
   ]
  },
  {
   "cell_type": "code",
   "execution_count": 4,
   "id": "1892d129-1fa4-4886-8bf0-055e50efeb4d",
   "metadata": {},
   "outputs": [
    {
     "data": {
      "text/plain": [
       "[False, False, False, True, True, False]"
      ]
     },
     "execution_count": 4,
     "metadata": {},
     "output_type": "execute_result"
    }
   ],
   "source": [
    "def one_range_fully_contained_in_other(assignment: tuple[tuple[int, int], tuple[int, int]]) -> bool:\n",
    "    range_elf_1, range_elf_2 = assignment\n",
    "    range_elf_1_set = set(range(range_elf_1[0], range_elf_1[1]+1))\n",
    "    range_elf_2_set = set(range(range_elf_2[0], range_elf_2[1]+1))\n",
    "    return (range_elf_1_set <= range_elf_2_set) or (range_elf_2_set <= range_elf_1_set)\n",
    "\n",
    "list(map(one_range_fully_contained_in_other, test_section_assignments))"
   ]
  },
  {
   "cell_type": "code",
   "execution_count": 5,
   "id": "c5e2cc28-8d0e-4b97-9990-84fd7c25fc23",
   "metadata": {},
   "outputs": [
    {
     "name": "stdout",
     "output_type": "stream",
     "text": [
      "CPU times: total: 0 ns\n",
      "Wall time: 0 ns\n"
     ]
    },
    {
     "data": {
      "text/plain": [
       "True"
      ]
     },
     "execution_count": 5,
     "metadata": {},
     "output_type": "execute_result"
    }
   ],
   "source": [
    "%%time\n",
    "sum(map(one_range_fully_contained_in_other, test_section_assignments)) == 2"
   ]
  },
  {
   "cell_type": "code",
   "execution_count": 6,
   "id": "a4c1d699-cc9c-49de-b16c-76e68ad1f999",
   "metadata": {},
   "outputs": [
    {
     "data": {
      "text/plain": [
       "True"
      ]
     },
     "execution_count": 6,
     "metadata": {},
     "output_type": "execute_result"
    }
   ],
   "source": [
    "section_assignments = parse_section_assignments(pathlib.Path(\"../data/day04.txt\").read_text())\n",
    "len(section_assignments) == 1000"
   ]
  },
  {
   "cell_type": "code",
   "execution_count": 7,
   "id": "20d23ccc-8692-4d2a-8f4e-503788381302",
   "metadata": {},
   "outputs": [
    {
     "name": "stdout",
     "output_type": "stream",
     "text": [
      "Answer part 1: 569\n",
      "\n",
      "CPU times: total: 0 ns\n",
      "Wall time: 2 ms\n"
     ]
    }
   ],
   "source": [
    "%%time\n",
    "print(f\"Answer part 1: {sum(map(one_range_fully_contained_in_other, section_assignments))}\\n\")"
   ]
  },
  {
   "cell_type": "markdown",
   "id": "1efcfd47-bfd4-4db0-8495-1543f53265be",
   "metadata": {},
   "source": [
    "## Part 2"
   ]
  },
  {
   "cell_type": "code",
   "execution_count": 8,
   "id": "3e101ea6-ac8f-4297-8183-19e77261152d",
   "metadata": {},
   "outputs": [
    {
     "data": {
      "text/plain": [
       "[False, False, True, True, True, True]"
      ]
     },
     "execution_count": 8,
     "metadata": {},
     "output_type": "execute_result"
    }
   ],
   "source": [
    "def any_overlap(assignment: tuple[tuple[int, int], tuple[int, int]]) -> bool:\n",
    "    range_elf_1, range_elf_2 = assignment\n",
    "    range_elf_1_set = set(range(range_elf_1[0], range_elf_1[1]+1))\n",
    "    range_elf_2_set = set(range(range_elf_2[0], range_elf_2[1]+1))\n",
    "    return True if range_elf_1_set & range_elf_2_set else False\n",
    "\n",
    "list(map(any_overlap, test_section_assignments))"
   ]
  },
  {
   "cell_type": "code",
   "execution_count": 9,
   "id": "8edc89b5-a32f-4014-951f-14c37aa6de9b",
   "metadata": {},
   "outputs": [
    {
     "name": "stdout",
     "output_type": "stream",
     "text": [
      "CPU times: total: 0 ns\n",
      "Wall time: 0 ns\n"
     ]
    },
    {
     "data": {
      "text/plain": [
       "True"
      ]
     },
     "execution_count": 9,
     "metadata": {},
     "output_type": "execute_result"
    }
   ],
   "source": [
    "%%time\n",
    "sum(map(any_overlap, test_section_assignments)) == 4"
   ]
  },
  {
   "cell_type": "code",
   "execution_count": 10,
   "id": "0d12ea40-8972-4bba-8fde-4778218fa4a4",
   "metadata": {},
   "outputs": [
    {
     "name": "stdout",
     "output_type": "stream",
     "text": [
      "Answer part 2: 936\n",
      "\n",
      "CPU times: total: 0 ns\n",
      "Wall time: 2 ms\n"
     ]
    }
   ],
   "source": [
    "%%time\n",
    "print(f\"Answer part 2: {sum(map(any_overlap, section_assignments))}\\n\")"
   ]
  },
  {
   "cell_type": "code",
   "execution_count": null,
   "id": "b1ea13cc-51f3-477f-8832-581c27411eec",
   "metadata": {},
   "outputs": [],
   "source": []
  }
 ],
 "metadata": {
  "kernelspec": {
   "display_name": "Python 3 (ipykernel)",
   "language": "python",
   "name": "python3"
  },
  "language_info": {
   "codemirror_mode": {
    "name": "ipython",
    "version": 3
   },
   "file_extension": ".py",
   "mimetype": "text/x-python",
   "name": "python",
   "nbconvert_exporter": "python",
   "pygments_lexer": "ipython3",
   "version": "3.10.8"
  }
 },
 "nbformat": 4,
 "nbformat_minor": 5
}
