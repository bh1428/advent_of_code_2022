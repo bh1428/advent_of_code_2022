{
 "cells": [
  {
   "cell_type": "markdown",
   "id": "9a01689f-9e74-4574-9f61-ea46f2456dff",
   "metadata": {},
   "source": [
    "# [Day 5: Supply Stacks](https://adventofcode.com/2022/day/5)\n",
    "\n",
    "## Part 1"
   ]
  },
  {
   "cell_type": "code",
   "execution_count": 1,
   "id": "333c0299-b779-46d7-9aca-3cdef60b4cc0",
   "metadata": {},
   "outputs": [],
   "source": [
    "import copy\n",
    "import itertools\n",
    "import pathlib\n",
    "import re"
   ]
  },
  {
   "cell_type": "code",
   "execution_count": 2,
   "id": "ff2faef1-824b-471f-b582-ebf327873b79",
   "metadata": {},
   "outputs": [],
   "source": [
    "test_input_data = \"\"\"\n",
    "    [D]    \n",
    "[N] [C]    \n",
    "[Z] [M] [P]\n",
    " 1   2   3 \n",
    "\n",
    "move 1 from 2 to 1\n",
    "move 3 from 1 to 3\n",
    "move 2 from 2 to 1\n",
    "move 1 from 1 to 2\n",
    "\"\"\""
   ]
  },
  {
   "cell_type": "code",
   "execution_count": 3,
   "id": "e6fcf55a-7afb-422a-a27f-d848cf21ec98",
   "metadata": {},
   "outputs": [
    {
     "data": {
      "text/plain": [
       "([['N', 'Z'], ['D', 'C', 'M'], ['P']],\n",
       " [(1, 2, 1), (3, 1, 3), (2, 2, 1), (1, 1, 2)])"
      ]
     },
     "execution_count": 3,
     "metadata": {},
     "output_type": "execute_result"
    }
   ],
   "source": [
    "StackType = list[list[str]]\n",
    "InstructionListType = list[tuple[int, ...]]\n",
    "\n",
    "def add_layer_to_stacks(stacks: StackType, line: str) -> StackType:\n",
    "    items = list(itertools.islice(line, 1, None, 4))\n",
    "    while len(stacks) < len(items):\n",
    "        stacks.append([])\n",
    "    for i, item in enumerate(items):\n",
    "        if item.strip():\n",
    "            stacks[i].append(item)\n",
    "    return stacks\n",
    "\n",
    "def parse_input(data: str) -> tuple[StackType, InstructionListType]:\n",
    "    re_instruction = re.compile(r\"^\\s*move\\s*(\\d+)\\s*from\\s*(\\d+)\\s*to\\s*(\\d+)\\s*$\")\n",
    "    state = 0\n",
    "    stacks: StackType = []\n",
    "    instructions = []\n",
    "    for line in data.splitlines():\n",
    "        if (state == 0) and (\"[\" in line):\n",
    "            state += 1\n",
    "        if state == 1:\n",
    "            if \"[\" in line:\n",
    "                stacks = add_layer_to_stacks(stacks, line)\n",
    "            else:\n",
    "                state = 2\n",
    "        if (state == 2) and (mt_instruction := re_instruction.match(line)):\n",
    "            instructions.append(tuple(map(int, mt_instruction.groups())))\n",
    "    return stacks, instructions\n",
    "\n",
    "test_stacks, test_instructions = parse_input(test_input_data)\n",
    "test_stacks, test_instructions"
   ]
  },
  {
   "cell_type": "code",
   "execution_count": 4,
   "id": "1892d129-1fa4-4886-8bf0-055e50efeb4d",
   "metadata": {},
   "outputs": [],
   "source": [
    "def move_crates(stacks: StackType, instructions: InstructionListType) -> StackType:\n",
    "    stacks = copy.deepcopy(stacks)  # do not modify start position\n",
    "    for n_crates, stack_from, stack_to in instructions:\n",
    "        stack_from -= 1\n",
    "        stack_to -= 1\n",
    "        while n_crates > 0:\n",
    "            crane = stacks[stack_from].pop(0)\n",
    "            stacks[stack_to].insert(0, crane)\n",
    "            n_crates -= 1\n",
    "    return stacks\n",
    "\n",
    "def get_top_crates(stacks):\n",
    "    # account for empty stacks\n",
    "    return \"\".join([stack[0] if stack else \" \" for stack in stacks])"
   ]
  },
  {
   "cell_type": "code",
   "execution_count": 5,
   "id": "c5e2cc28-8d0e-4b97-9990-84fd7c25fc23",
   "metadata": {},
   "outputs": [
    {
     "name": "stdout",
     "output_type": "stream",
     "text": [
      "CPU times: total: 0 ns\n",
      "Wall time: 0 ns\n"
     ]
    },
    {
     "data": {
      "text/plain": [
       "True"
      ]
     },
     "execution_count": 5,
     "metadata": {},
     "output_type": "execute_result"
    }
   ],
   "source": [
    "%%time\n",
    "get_top_crates(move_crates(test_stacks, test_instructions)) == \"CMZ\""
   ]
  },
  {
   "cell_type": "code",
   "execution_count": 6,
   "id": "a4c1d699-cc9c-49de-b16c-76e68ad1f999",
   "metadata": {},
   "outputs": [
    {
     "data": {
      "text/plain": [
       "(True, True)"
      ]
     },
     "execution_count": 6,
     "metadata": {},
     "output_type": "execute_result"
    }
   ],
   "source": [
    "stacks, instructions = parse_input(pathlib.Path(\"../data/day05.txt\").read_text())\n",
    "len(stacks) == 9, instructions[-1] == (1, 1, 9)"
   ]
  },
  {
   "cell_type": "code",
   "execution_count": 7,
   "id": "20d23ccc-8692-4d2a-8f4e-503788381302",
   "metadata": {},
   "outputs": [
    {
     "name": "stdout",
     "output_type": "stream",
     "text": [
      "Answer part 1: ZWHVFWQWW\n",
      "\n",
      "CPU times: total: 0 ns\n",
      "Wall time: 3 ms\n"
     ]
    }
   ],
   "source": [
    "%%time\n",
    "print(f\"Answer part 1: {get_top_crates(move_crates(stacks, instructions))}\\n\")"
   ]
  },
  {
   "cell_type": "markdown",
   "id": "1efcfd47-bfd4-4db0-8495-1543f53265be",
   "metadata": {},
   "source": [
    "## Part 2"
   ]
  },
  {
   "cell_type": "code",
   "execution_count": 8,
   "id": "75644f01-38a3-43b2-83de-7becc27df564",
   "metadata": {},
   "outputs": [],
   "source": [
    "def move_crates_cm9001(stacks: StackType, instructions: InstructionListType) -> StackType:\n",
    "    stacks = copy.deepcopy(stacks)  # do not modify start position\n",
    "    for n_crates, stack_from, stack_to in instructions:\n",
    "        stack_from -= 1\n",
    "        stack_to -= 1\n",
    "        crane = stacks[stack_from][:n_crates]\n",
    "        stacks[stack_from] = stacks[stack_from][n_crates:]\n",
    "        crane.extend(stacks[stack_to])\n",
    "        stacks[stack_to] = crane\n",
    "    return stacks"
   ]
  },
  {
   "cell_type": "code",
   "execution_count": 9,
   "id": "c0c4b9aa-4d54-415b-bd90-bbd2c26210b6",
   "metadata": {},
   "outputs": [
    {
     "name": "stdout",
     "output_type": "stream",
     "text": [
      "CPU times: total: 0 ns\n",
      "Wall time: 998 µs\n"
     ]
    },
    {
     "data": {
      "text/plain": [
       "True"
      ]
     },
     "execution_count": 9,
     "metadata": {},
     "output_type": "execute_result"
    }
   ],
   "source": [
    "%%time\n",
    "get_top_crates(move_crates_cm9001(test_stacks, test_instructions)) == \"MCD\""
   ]
  },
  {
   "cell_type": "code",
   "execution_count": 10,
   "id": "0d12ea40-8972-4bba-8fde-4778218fa4a4",
   "metadata": {},
   "outputs": [
    {
     "name": "stdout",
     "output_type": "stream",
     "text": [
      "Answer part 2: HZFZCCWWV\n",
      "\n",
      "CPU times: total: 0 ns\n",
      "Wall time: 998 µs\n"
     ]
    }
   ],
   "source": [
    "%%time\n",
    "print(f\"Answer part 2: {get_top_crates(move_crates_cm9001(stacks, instructions))}\\n\")"
   ]
  },
  {
   "cell_type": "code",
   "execution_count": null,
   "id": "b1ea13cc-51f3-477f-8832-581c27411eec",
   "metadata": {},
   "outputs": [],
   "source": []
  }
 ],
 "metadata": {
  "kernelspec": {
   "display_name": "Python 3 (ipykernel)",
   "language": "python",
   "name": "python3"
  },
  "language_info": {
   "codemirror_mode": {
    "name": "ipython",
    "version": 3
   },
   "file_extension": ".py",
   "mimetype": "text/x-python",
   "name": "python",
   "nbconvert_exporter": "python",
   "pygments_lexer": "ipython3",
   "version": "3.10.8"
  }
 },
 "nbformat": 4,
 "nbformat_minor": 5
}
