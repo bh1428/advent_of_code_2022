{
 "cells": [
  {
   "cell_type": "markdown",
   "id": "9a01689f-9e74-4574-9f61-ea46f2456dff",
   "metadata": {},
   "source": [
    "# [Day 6: Tuning Trouble](https://adventofcode.com/2022/day/6)\n",
    "\n",
    "## Part 1"
   ]
  },
  {
   "cell_type": "code",
   "execution_count": 1,
   "id": "333c0299-b779-46d7-9aca-3cdef60b4cc0",
   "metadata": {},
   "outputs": [],
   "source": [
    "import collections\n",
    "import itertools\n",
    "import pathlib"
   ]
  },
  {
   "cell_type": "code",
   "execution_count": 2,
   "id": "ff2faef1-824b-471f-b582-ebf327873b79",
   "metadata": {},
   "outputs": [],
   "source": [
    "def sliding_window(iterable, n):\n",
    "    # sliding_window('ABCDEFG', 4) --> ABCD BCDE CDEF DEFG\n",
    "    it = iter(iterable)\n",
    "    window = collections.deque(itertools.islice(it, n), maxlen=n)\n",
    "    if len(window) == n:\n",
    "        yield tuple(window)\n",
    "    for x in it:\n",
    "        window.append(x)\n",
    "        yield tuple(window)\n",
    "\n",
    "def find_first_marker(datastream: str, len_start_packet: int = 4) -> int:\n",
    "    chars_processed = len_start_packet\n",
    "    for sequence in sliding_window(datastream, len_start_packet):\n",
    "        if len(set(sequence)) == len_start_packet:\n",
    "            return chars_processed\n",
    "        chars_processed += 1"
   ]
  },
  {
   "cell_type": "code",
   "execution_count": 3,
   "id": "51694c12-9863-4a6c-938f-700c57cb4f57",
   "metadata": {},
   "outputs": [
    {
     "name": "stdout",
     "output_type": "stream",
     "text": [
      "CPU times: total: 0 ns\n",
      "Wall time: 0 ns\n"
     ]
    },
    {
     "data": {
      "text/plain": [
       "(True, True, True, True, True)"
      ]
     },
     "execution_count": 3,
     "metadata": {},
     "output_type": "execute_result"
    }
   ],
   "source": [
    "%%time\n",
    "(\n",
    "    find_first_marker(\"mjqjpqmgbljsphdztnvjfqwrcgsmlb\") == 7,\n",
    "    find_first_marker(\"bvwbjplbgvbhsrlpgdmjqwftvncz\") == 5,\n",
    "    find_first_marker(\"nppdvjthqldpwncqszvftbrmjlhg\") == 6,\n",
    "    find_first_marker(\"nznrnfrfntjfmvfwmzdfjlvtqnbhcprsg\") == 10,\n",
    "    find_first_marker(\"zcfzfwzzqfrljwzlrfnpqdbhtmscgvjw\") == 11,\n",
    ")"
   ]
  },
  {
   "cell_type": "code",
   "execution_count": 4,
   "id": "a4c1d699-cc9c-49de-b16c-76e68ad1f999",
   "metadata": {},
   "outputs": [
    {
     "data": {
      "text/plain": [
       "(True, True)"
      ]
     },
     "execution_count": 4,
     "metadata": {},
     "output_type": "execute_result"
    }
   ],
   "source": [
    "data_stream = pathlib.Path(\"../data/day06.txt\").read_text().strip()\n",
    "(data_stream[:6] == \"llqnqf\", data_stream[-6:] == \"lnstgz\")"
   ]
  },
  {
   "cell_type": "code",
   "execution_count": 5,
   "id": "20d23ccc-8692-4d2a-8f4e-503788381302",
   "metadata": {},
   "outputs": [
    {
     "name": "stdout",
     "output_type": "stream",
     "text": [
      "Answer part 1: 1175\n",
      "\n",
      "CPU times: total: 0 ns\n",
      "Wall time: 1 ms\n"
     ]
    }
   ],
   "source": [
    "%%time\n",
    "print(f\"Answer part 1: {find_first_marker(data_stream)}\\n\")"
   ]
  },
  {
   "cell_type": "markdown",
   "id": "1efcfd47-bfd4-4db0-8495-1543f53265be",
   "metadata": {},
   "source": [
    "## Part 2"
   ]
  },
  {
   "cell_type": "code",
   "execution_count": 6,
   "id": "c0c4b9aa-4d54-415b-bd90-bbd2c26210b6",
   "metadata": {},
   "outputs": [
    {
     "name": "stdout",
     "output_type": "stream",
     "text": [
      "CPU times: total: 0 ns\n",
      "Wall time: 0 ns\n"
     ]
    },
    {
     "data": {
      "text/plain": [
       "(True, True, True, True, True)"
      ]
     },
     "execution_count": 6,
     "metadata": {},
     "output_type": "execute_result"
    }
   ],
   "source": [
    "%%time\n",
    "(\n",
    "    find_first_marker(\"mjqjpqmgbljsphdztnvjfqwrcgsmlb\", 14) == 19,\n",
    "    find_first_marker(\"bvwbjplbgvbhsrlpgdmjqwftvncz\", 14) == 23,\n",
    "    find_first_marker(\"nppdvjthqldpwncqszvftbrmjlhg\", 14) == 23,\n",
    "    find_first_marker(\"nznrnfrfntjfmvfwmzdfjlvtqnbhcprsg\", 14) == 29,\n",
    "    find_first_marker(\"zcfzfwzzqfrljwzlrfnpqdbhtmscgvjw\", 14) == 26,\n",
    ")"
   ]
  },
  {
   "cell_type": "code",
   "execution_count": 7,
   "id": "0d12ea40-8972-4bba-8fde-4778218fa4a4",
   "metadata": {},
   "outputs": [
    {
     "name": "stdout",
     "output_type": "stream",
     "text": [
      "Answer part 2: 3217\n",
      "\n",
      "CPU times: total: 0 ns\n",
      "Wall time: 996 µs\n"
     ]
    }
   ],
   "source": [
    "%%time\n",
    "print(f\"Answer part 2: {find_first_marker(data_stream, 14)}\\n\")"
   ]
  },
  {
   "cell_type": "code",
   "execution_count": null,
   "id": "93acd2e1-5acd-4e4a-a4f6-8cc6212e8c8f",
   "metadata": {},
   "outputs": [],
   "source": []
  }
 ],
 "metadata": {
  "kernelspec": {
   "display_name": "Python 3 (ipykernel)",
   "language": "python",
   "name": "python3"
  },
  "language_info": {
   "codemirror_mode": {
    "name": "ipython",
    "version": 3
   },
   "file_extension": ".py",
   "mimetype": "text/x-python",
   "name": "python",
   "nbconvert_exporter": "python",
   "pygments_lexer": "ipython3",
   "version": "3.10.8"
  }
 },
 "nbformat": 4,
 "nbformat_minor": 5
}
