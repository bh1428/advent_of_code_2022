{
 "cells": [
  {
   "cell_type": "markdown",
   "id": "9a01689f-9e74-4574-9f61-ea46f2456dff",
   "metadata": {},
   "source": [
    "# [Day 7: No Space Left On Device](https://adventofcode.com/2022/day/7)\n",
    "\n",
    "## Part 1"
   ]
  },
  {
   "cell_type": "code",
   "execution_count": 1,
   "id": "333c0299-b779-46d7-9aca-3cdef60b4cc0",
   "metadata": {},
   "outputs": [],
   "source": [
    "import collections\n",
    "import dataclasses\n",
    "import pathlib\n",
    "import re\n",
    "from typing import Optional"
   ]
  },
  {
   "cell_type": "code",
   "execution_count": 2,
   "id": "ff2faef1-824b-471f-b582-ebf327873b79",
   "metadata": {},
   "outputs": [],
   "source": [
    "test_terminal_output = \"\"\"\n",
    "$ cd /\n",
    "$ ls\n",
    "dir a\n",
    "14848514 b.txt\n",
    "8504156 c.dat\n",
    "dir d\n",
    "$ cd a\n",
    "$ ls\n",
    "dir e\n",
    "29116 f\n",
    "2557 g\n",
    "62596 h.lst\n",
    "$ cd e\n",
    "$ ls\n",
    "584 i\n",
    "$ cd ..\n",
    "$ cd ..\n",
    "$ cd d\n",
    "$ ls\n",
    "4060174 j\n",
    "8033020 d.log\n",
    "5626152 d.ext\n",
    "7214296 k\n",
    "\"\"\""
   ]
  },
  {
   "cell_type": "code",
   "execution_count": 3,
   "id": "51694c12-9863-4a6c-938f-700c57cb4f57",
   "metadata": {},
   "outputs": [],
   "source": [
    "RE_LINE = re.compile(\"\"\"\n",
    "^\\s*\n",
    "(\n",
    "  \\$\\s*\n",
    "  ((?P<cd>cd\\s+(?P<cd_name>\\S+))\n",
    "  |\n",
    "  (?P<ls>ls)\n",
    ")\n",
    "|\n",
    "(?P<dir>dir\\s+(?P<dir_name>.*))\n",
    "|\n",
    "(?P<file>(?P<file_size>\\d+)\\s+(?P<file_name>.*)\\s*)\n",
    ")\n",
    "\\s*$\n",
    "\"\"\", re.IGNORECASE | re.VERBOSE)\n",
    "\n",
    "@dataclasses.dataclass\n",
    "class File:\n",
    "    name: str\n",
    "    size: int\n",
    "    \n",
    "@dataclasses.dataclass\n",
    "class Directory:\n",
    "    name: str\n",
    "    directories: dict[str, \"Directory\"] = dataclasses.field(default_factory=dict)\n",
    "    files: dict[str, File] = dataclasses.field(default_factory=dict)\n",
    "    size: int = 0\n",
    "    parent: Optional[\"Directory\"] = None\n",
    "\n",
    "    def add_directory(self, name: str) -> None:\n",
    "        new_directory = Directory(name=name)\n",
    "        if name != \"/\":\n",
    "            new_directory.parent = self\n",
    "        self.directories[name] = new_directory\n",
    "\n",
    "    def add_file(self, name: str, size: int) -> None:\n",
    "        self.files[name] = File(name=name, size=size)\n",
    "        self.size += size\n",
    "        # walk up tree and update sizes\n",
    "        parent = self\n",
    "        while (parent := parent.parent) is not None:\n",
    "            parent.size += size\n",
    "    \n",
    "    def cd(self, name: str) -> \"Directory\":\n",
    "        # cd /\n",
    "        if name == \"/\":\n",
    "            # walk up tree and return the root\n",
    "            parent, root = self, self\n",
    "            while (parent := parent.parent) is not None:\n",
    "                root = parent\n",
    "            return root\n",
    "        # cd ..\n",
    "        if name == \"..\":\n",
    "            if self.parent is None:\n",
    "                return self  # already at root\n",
    "            else:\n",
    "                return self.parent\n",
    "        # cd name\n",
    "        return self.directories[name]\n",
    "        \n",
    "@dataclasses.dataclass\n",
    "class Filesystem:\n",
    "    root: None | Directory = None\n",
    "    \n",
    "    def __post_init__(self) -> None:\n",
    "        self.root = Directory(\"/\")\n",
    "    \n",
    "    def replay_terminal_output(self, term_out: str) -> None:\n",
    "        current_dir = self.root\n",
    "        for line in term_out.splitlines():\n",
    "            if mt_line := RE_LINE.match(line):\n",
    "                if mt_line[\"cd\"]:\n",
    "                    current_dir = current_dir.cd(mt_line[\"cd_name\"])\n",
    "                elif mt_line[\"dir\"]:\n",
    "                    current_dir.add_directory(mt_line[\"dir_name\"])\n",
    "                elif mt_line[\"file\"]:\n",
    "                    current_dir.add_file(mt_line[\"file_name\"], int(mt_line[\"file_size\"]))"
   ]
  },
  {
   "cell_type": "code",
   "execution_count": 4,
   "id": "984274d5-b0fe-4508-ae11-b2488ed3f6ae",
   "metadata": {},
   "outputs": [],
   "source": [
    "def total_size_with_max(filesystem: Filesystem, max_size: int) -> int:\n",
    "    total_size = 0\n",
    "    todo = collections.deque([filesystem.root])\n",
    "    while todo:\n",
    "        directory = todo.pop()\n",
    "        todo.extend(directory.directories.values())\n",
    "        size = directory.size\n",
    "        if size <= max_size:\n",
    "            total_size += size\n",
    "    return total_size"
   ]
  },
  {
   "cell_type": "code",
   "execution_count": 5,
   "id": "033562c2-a44e-4a9f-beff-ff4506c60695",
   "metadata": {},
   "outputs": [
    {
     "name": "stdout",
     "output_type": "stream",
     "text": [
      "CPU times: total: 0 ns\n",
      "Wall time: 0 ns\n"
     ]
    }
   ],
   "source": [
    "%%time\n",
    "test_filesystem = Filesystem()\n",
    "test_filesystem.replay_terminal_output(test_terminal_output)"
   ]
  },
  {
   "cell_type": "code",
   "execution_count": 6,
   "id": "64614e15-e2ee-4c89-8e05-f19e308e3431",
   "metadata": {},
   "outputs": [
    {
     "name": "stdout",
     "output_type": "stream",
     "text": [
      "CPU times: total: 0 ns\n",
      "Wall time: 0 ns\n"
     ]
    },
    {
     "data": {
      "text/plain": [
       "(True, True, True, True, True)"
      ]
     },
     "execution_count": 6,
     "metadata": {},
     "output_type": "execute_result"
    }
   ],
   "source": [
    "%%time\n",
    "(\n",
    "    test_filesystem.root.directories[\"a\"].directories[\"e\"].size == 584,\n",
    "    test_filesystem.root.directories[\"a\"].size == 94853,\n",
    "    test_filesystem.root.directories[\"d\"].size == 24933642,\n",
    "    test_filesystem.root.size == 48381165,\n",
    "    total_size_with_max(test_filesystem, 100000) == 95437,\n",
    ")"
   ]
  },
  {
   "cell_type": "code",
   "execution_count": 7,
   "id": "928337eb-4b53-4f44-882b-b79f0f7cce3e",
   "metadata": {},
   "outputs": [
    {
     "data": {
      "text/plain": [
       "True"
      ]
     },
     "execution_count": 7,
     "metadata": {},
     "output_type": "execute_result"
    }
   ],
   "source": [
    "terminal_output = pathlib.Path(\"../data/day07.txt\").read_text().strip()\n",
    "terminal_output.splitlines()[-1] == \"25218 dtdt\""
   ]
  },
  {
   "cell_type": "code",
   "execution_count": 8,
   "id": "407d9e5e-95fd-40ac-aec6-8527c184db96",
   "metadata": {},
   "outputs": [
    {
     "name": "stdout",
     "output_type": "stream",
     "text": [
      "CPU times: total: 0 ns\n",
      "Wall time: 1 ms\n"
     ]
    }
   ],
   "source": [
    "%%time\n",
    "filesystem = Filesystem()\n",
    "filesystem.replay_terminal_output(terminal_output)"
   ]
  },
  {
   "cell_type": "code",
   "execution_count": 9,
   "id": "0e43ed0f-a25f-4a50-ba60-cb3e7db1db6c",
   "metadata": {},
   "outputs": [
    {
     "name": "stdout",
     "output_type": "stream",
     "text": [
      "Answer part 1: 1297683\n",
      "\n",
      "CPU times: total: 0 ns\n",
      "Wall time: 0 ns\n"
     ]
    }
   ],
   "source": [
    "%%time\n",
    "print(f\"Answer part 1: {total_size_with_max(filesystem, 100000)}\\n\")"
   ]
  },
  {
   "cell_type": "markdown",
   "id": "1efcfd47-bfd4-4db0-8495-1543f53265be",
   "metadata": {},
   "source": [
    "## Part 2"
   ]
  },
  {
   "cell_type": "code",
   "execution_count": 10,
   "id": "50770a5a-989c-4edb-ab11-b26cda0c5b91",
   "metadata": {},
   "outputs": [],
   "source": [
    "def find_directory_to_delete(filesystem: Filesystem, required_space: int):\n",
    "    candidates = []\n",
    "    todo = collections.deque([filesystem.root])\n",
    "    while todo:\n",
    "        directory = todo.pop()\n",
    "        todo.extend(directory.directories.values())\n",
    "        size = directory.size\n",
    "        if size >= required_space:\n",
    "            candidates.append(size)\n",
    "    return sorted(candidates)[0]\n",
    "\n",
    "def get_directory_to_delete(filesystem: Filesystem, needed_space: int, filesystem_size: int = 70000000):\n",
    "    current_free_space = filesystem_size - filesystem.root.size\n",
    "    space_to_free = needed_space - current_free_space\n",
    "    return find_directory_to_delete(filesystem, space_to_free)"
   ]
  },
  {
   "cell_type": "code",
   "execution_count": 11,
   "id": "1cafbbb3-a108-4092-803a-d2544df55299",
   "metadata": {},
   "outputs": [
    {
     "name": "stdout",
     "output_type": "stream",
     "text": [
      "CPU times: total: 0 ns\n",
      "Wall time: 0 ns\n"
     ]
    },
    {
     "data": {
      "text/plain": [
       "True"
      ]
     },
     "execution_count": 11,
     "metadata": {},
     "output_type": "execute_result"
    }
   ],
   "source": [
    "%%time\n",
    "get_directory_to_delete(test_filesystem, 30000000) == 24933642"
   ]
  },
  {
   "cell_type": "code",
   "execution_count": 12,
   "id": "ac2019af-0210-48d3-9769-9ce10cb986af",
   "metadata": {},
   "outputs": [
    {
     "name": "stdout",
     "output_type": "stream",
     "text": [
      "Answer part 2: 5756764\n",
      "\n",
      "CPU times: total: 0 ns\n",
      "Wall time: 0 ns\n"
     ]
    }
   ],
   "source": [
    "%%time\n",
    "print(f\"Answer part 2: {get_directory_to_delete(filesystem, 30000000)}\\n\")"
   ]
  },
  {
   "cell_type": "code",
   "execution_count": null,
   "id": "93acd2e1-5acd-4e4a-a4f6-8cc6212e8c8f",
   "metadata": {},
   "outputs": [],
   "source": []
  }
 ],
 "metadata": {
  "kernelspec": {
   "display_name": "Python 3 (ipykernel)",
   "language": "python",
   "name": "python3"
  },
  "language_info": {
   "codemirror_mode": {
    "name": "ipython",
    "version": 3
   },
   "file_extension": ".py",
   "mimetype": "text/x-python",
   "name": "python",
   "nbconvert_exporter": "python",
   "pygments_lexer": "ipython3",
   "version": "3.10.8"
  }
 },
 "nbformat": 4,
 "nbformat_minor": 5
}
